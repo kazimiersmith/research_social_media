{
 "cells": [
  {
   "cell_type": "code",
   "execution_count": 1,
   "metadata": {},
   "outputs": [],
   "source": [
    "import instaloader\n",
    "import re #regular expressions\n",
    "import pandas as pd\n",
    "import unicodedata\n",
    "import numpy as np\n",
    "from pathlib import Path\n",
    "import os\n",
    "import datetime\n",
    "import warnings\n",
    "import itertools\n",
    "from datetime import datetime"
   ]
  },
  {
   "cell_type": "code",
   "execution_count": 2,
   "metadata": {},
   "outputs": [],
   "source": [
    "root = Path('C:/Users/kas1112/Documents/research_social_media')\n",
    "data = root / 'data'\n",
    "data_in = data / 'in'\n",
    "data_out = data / 'out'\n",
    "today = datetime.now().strftime('%Y%m%d')"
   ]
  },
  {
   "cell_type": "code",
   "execution_count": 3,
   "metadata": {},
   "outputs": [
    {
     "data": {
      "text/plain": [
       "'Mozilla/5.0 (iPhone; CPU iPhone OS 15_6_1 like Mac OS X) AppleWebKit/605.1.15 (KHTML, like Gecko) Mobile/15E148 Instagram 248.1.0.13.112 (iPhone11,2; iOS 15_6_1; en_US; en-US; scale=3.00; 1125x2436; 390885564) NW/3'"
      ]
     },
     "execution_count": 3,
     "metadata": {},
     "output_type": "execute_result"
    }
   ],
   "source": [
    "with open(data_in / 'instagram_mobile_user_agent.txt', 'r') as f:\n",
    "    mobile_user_agent = f.read()\n",
    "mobile_user_agent"
   ]
  },
  {
   "cell_type": "code",
   "execution_count": 4,
   "metadata": {},
   "outputs": [],
   "source": [
    "# Get instance. Use iphone user agent so requests to Instagram look less suspicious\n",
    "L = instaloader.Instaloader(user_agent = mobile_user_agent)\n",
    "\n",
    "# Login to Instagram using session file created with instaloader --login in terminal.\n",
    "# Each person running the code needs to do this themselves. Instagram seems to require being logged in to access most information.\n",
    "# Don't use an account you care a lot about - it could get banned due to scraping\n",
    "#L.load_session_from_file('kazimiersmith')"
   ]
  },
  {
   "cell_type": "code",
   "execution_count": 5,
   "metadata": {},
   "outputs": [],
   "source": [
    "influencer_list_full = pd.read_csv(data_in / 'list_influencers.csv', encoding = 'utf-8')\n",
    "#influencer_list_full = pd.read_csv('list_influencers_5.csv', encoding = 'utf-8')"
   ]
  },
  {
   "cell_type": "code",
   "execution_count": 6,
   "metadata": {},
   "outputs": [],
   "source": [
    "# For the initial regression of engagement on sponsorship, use influencers with\n",
    "# 50,000 to 200,000 followers\n",
    "influencer_list = influencer_list_full[(influencer_list_full['num_followers'] > 50000) \n",
    "                                       & (influencer_list_full['num_followers'] < 200000)]['username']\n",
    "#influencer_list = influencer_list_full['username']"
   ]
  },
  {
   "cell_type": "code",
   "execution_count": 7,
   "metadata": {},
   "outputs": [],
   "source": [
    "def user_to_json(influencer, num_posts, replace_json = True):\n",
    "    print('Downloading posts from', influencer)\n",
    "    Profile = instaloader.Profile\n",
    "    profile = Profile.from_username(L.context, influencer)\n",
    "\n",
    "    # get_posts returns posts in the order you see them when you visit the profile. This generally means\n",
    "    # it returns the most recent posts firsts, but if there are pinned posts, it will return those.\n",
    "    posts = profile.get_posts()\n",
    "    \n",
    "    for post in itertools.islice(posts, num_posts):\n",
    "        shortcode = post.shortcode\n",
    "        L.save_metadata_json(str(data_out / 'json' / today / shortcode), post) "
   ]
  },
  {
   "cell_type": "code",
   "execution_count": 8,
   "metadata": {},
   "outputs": [
    {
     "name": "stdout",
     "output_type": "stream",
     "text": [
      "Downloading posts from fooddolls\n",
      "json json json json json Downloading posts from nycfoodcoma\n"
     ]
    },
    {
     "ename": "KeyboardInterrupt",
     "evalue": "",
     "output_type": "error",
     "traceback": [
      "\u001b[1;31m---------------------------------------------------------------------------\u001b[0m",
      "\u001b[1;31mKeyboardInterrupt\u001b[0m                         Traceback (most recent call last)",
      "Input \u001b[1;32mIn [8]\u001b[0m, in \u001b[0;36m<cell line: 1>\u001b[1;34m()\u001b[0m\n\u001b[0;32m      1\u001b[0m \u001b[38;5;28;01mfor\u001b[39;00m influencer \u001b[38;5;129;01min\u001b[39;00m influencer_list:\n\u001b[1;32m----> 2\u001b[0m     \u001b[43muser_to_json\u001b[49m\u001b[43m(\u001b[49m\u001b[43minfluencer\u001b[49m\u001b[43m,\u001b[49m\u001b[43m \u001b[49m\u001b[38;5;241;43m5\u001b[39;49m\u001b[43m)\u001b[49m\n",
      "Input \u001b[1;32mIn [7]\u001b[0m, in \u001b[0;36muser_to_json\u001b[1;34m(influencer, num_posts, replace_json)\u001b[0m\n\u001b[0;32m      2\u001b[0m \u001b[38;5;28mprint\u001b[39m(\u001b[38;5;124m'\u001b[39m\u001b[38;5;124mDownloading posts from\u001b[39m\u001b[38;5;124m'\u001b[39m, influencer)\n\u001b[0;32m      3\u001b[0m Profile \u001b[38;5;241m=\u001b[39m instaloader\u001b[38;5;241m.\u001b[39mProfile\n\u001b[1;32m----> 4\u001b[0m profile \u001b[38;5;241m=\u001b[39m \u001b[43mProfile\u001b[49m\u001b[38;5;241;43m.\u001b[39;49m\u001b[43mfrom_username\u001b[49m\u001b[43m(\u001b[49m\u001b[43mL\u001b[49m\u001b[38;5;241;43m.\u001b[39;49m\u001b[43mcontext\u001b[49m\u001b[43m,\u001b[49m\u001b[43m \u001b[49m\u001b[43minfluencer\u001b[49m\u001b[43m)\u001b[49m\n\u001b[0;32m      6\u001b[0m \u001b[38;5;66;03m# get_posts returns posts in the order you see them when you visit the profile. This generally means\u001b[39;00m\n\u001b[0;32m      7\u001b[0m \u001b[38;5;66;03m# it returns the most recent posts firsts, but if there are pinned posts, it will return those.\u001b[39;00m\n\u001b[0;32m      8\u001b[0m posts \u001b[38;5;241m=\u001b[39m profile\u001b[38;5;241m.\u001b[39mget_posts()\n",
      "File \u001b[1;32mC:\\Python310\\lib\\site-packages\\instaloader\\structures.py:704\u001b[0m, in \u001b[0;36mProfile.from_username\u001b[1;34m(cls, context, username)\u001b[0m\n\u001b[0;32m    702\u001b[0m \u001b[38;5;66;03m# pylint:disable=protected-access\u001b[39;00m\n\u001b[0;32m    703\u001b[0m profile \u001b[38;5;241m=\u001b[39m \u001b[38;5;28mcls\u001b[39m(context, {\u001b[38;5;124m'\u001b[39m\u001b[38;5;124musername\u001b[39m\u001b[38;5;124m'\u001b[39m: username\u001b[38;5;241m.\u001b[39mlower()})\n\u001b[1;32m--> 704\u001b[0m \u001b[43mprofile\u001b[49m\u001b[38;5;241;43m.\u001b[39;49m\u001b[43m_obtain_metadata\u001b[49m\u001b[43m(\u001b[49m\u001b[43m)\u001b[49m  \u001b[38;5;66;03m# to raise ProfileNotExistsException now in case username is invalid\u001b[39;00m\n\u001b[0;32m    705\u001b[0m \u001b[38;5;28;01mreturn\u001b[39;00m profile\n",
      "File \u001b[1;32mC:\\Python310\\lib\\site-packages\\instaloader\\structures.py:773\u001b[0m, in \u001b[0;36mProfile._obtain_metadata\u001b[1;34m(self)\u001b[0m\n\u001b[0;32m    771\u001b[0m \u001b[38;5;28;01mtry\u001b[39;00m:\n\u001b[0;32m    772\u001b[0m     \u001b[38;5;28;01mif\u001b[39;00m \u001b[38;5;129;01mnot\u001b[39;00m \u001b[38;5;28mself\u001b[39m\u001b[38;5;241m.\u001b[39m_has_full_metadata:\n\u001b[1;32m--> 773\u001b[0m         metadata \u001b[38;5;241m=\u001b[39m \u001b[38;5;28;43mself\u001b[39;49m\u001b[38;5;241;43m.\u001b[39;49m\u001b[43m_context\u001b[49m\u001b[38;5;241;43m.\u001b[39;49m\u001b[43mget_iphone_json\u001b[49m\u001b[43m(\u001b[49m\u001b[38;5;124;43mf\u001b[39;49m\u001b[38;5;124;43m'\u001b[39;49m\u001b[38;5;124;43mapi/v1/users/web_profile_info/?username=\u001b[39;49m\u001b[38;5;132;43;01m{\u001b[39;49;00m\u001b[38;5;28;43mself\u001b[39;49m\u001b[38;5;241;43m.\u001b[39;49m\u001b[43musername\u001b[49m\u001b[38;5;132;43;01m}\u001b[39;49;00m\u001b[38;5;124;43m'\u001b[39;49m\u001b[43m,\u001b[49m\n\u001b[0;32m    774\u001b[0m \u001b[43m                                                 \u001b[49m\u001b[43mparams\u001b[49m\u001b[38;5;241;43m=\u001b[39;49m\u001b[43m{\u001b[49m\u001b[43m}\u001b[49m\u001b[43m)\u001b[49m\n\u001b[0;32m    775\u001b[0m         \u001b[38;5;28;01mif\u001b[39;00m metadata[\u001b[38;5;124m'\u001b[39m\u001b[38;5;124mdata\u001b[39m\u001b[38;5;124m'\u001b[39m][\u001b[38;5;124m'\u001b[39m\u001b[38;5;124muser\u001b[39m\u001b[38;5;124m'\u001b[39m] \u001b[38;5;129;01mis\u001b[39;00m \u001b[38;5;28;01mNone\u001b[39;00m:\n\u001b[0;32m    776\u001b[0m             \u001b[38;5;28;01mraise\u001b[39;00m ProfileNotExistsException(\u001b[38;5;124m'\u001b[39m\u001b[38;5;124mProfile \u001b[39m\u001b[38;5;132;01m{}\u001b[39;00m\u001b[38;5;124m does not exist.\u001b[39m\u001b[38;5;124m'\u001b[39m\u001b[38;5;241m.\u001b[39mformat(\u001b[38;5;28mself\u001b[39m\u001b[38;5;241m.\u001b[39musername))\n",
      "File \u001b[1;32mC:\\Python310\\lib\\site-packages\\instaloader\\instaloadercontext.py:488\u001b[0m, in \u001b[0;36mInstaloaderContext.get_iphone_json\u001b[1;34m(self, path, params)\u001b[0m\n\u001b[0;32m    486\u001b[0m \u001b[38;5;28;01mfor\u001b[39;00m header \u001b[38;5;129;01min\u001b[39;00m [\u001b[38;5;124m'\u001b[39m\u001b[38;5;124mHost\u001b[39m\u001b[38;5;124m'\u001b[39m, \u001b[38;5;124m'\u001b[39m\u001b[38;5;124mOrigin\u001b[39m\u001b[38;5;124m'\u001b[39m, \u001b[38;5;124m'\u001b[39m\u001b[38;5;124mX-Instagram-AJAX\u001b[39m\u001b[38;5;124m'\u001b[39m, \u001b[38;5;124m'\u001b[39m\u001b[38;5;124mX-Requested-With\u001b[39m\u001b[38;5;124m'\u001b[39m]:\n\u001b[0;32m    487\u001b[0m     tempsession\u001b[38;5;241m.\u001b[39mheaders\u001b[38;5;241m.\u001b[39mpop(header, \u001b[38;5;28;01mNone\u001b[39;00m)\n\u001b[1;32m--> 488\u001b[0m \u001b[38;5;28;01mreturn\u001b[39;00m \u001b[38;5;28;43mself\u001b[39;49m\u001b[38;5;241;43m.\u001b[39;49m\u001b[43mget_json\u001b[49m\u001b[43m(\u001b[49m\u001b[43mpath\u001b[49m\u001b[43m,\u001b[49m\u001b[43m \u001b[49m\u001b[43mparams\u001b[49m\u001b[43m,\u001b[49m\u001b[43m \u001b[49m\u001b[38;5;124;43m'\u001b[39;49m\u001b[38;5;124;43mi.instagram.com\u001b[39;49m\u001b[38;5;124;43m'\u001b[39;49m\u001b[43m,\u001b[49m\u001b[43m \u001b[49m\u001b[43mtempsession\u001b[49m\u001b[43m)\u001b[49m\n",
      "File \u001b[1;32mC:\\Python310\\lib\\site-packages\\instaloader\\instaloadercontext.py:318\u001b[0m, in \u001b[0;36mInstaloaderContext.get_json\u001b[1;34m(self, path, params, host, session, _attempt)\u001b[0m\n\u001b[0;32m    316\u001b[0m sess \u001b[38;5;241m=\u001b[39m session \u001b[38;5;28;01mif\u001b[39;00m session \u001b[38;5;28;01melse\u001b[39;00m \u001b[38;5;28mself\u001b[39m\u001b[38;5;241m.\u001b[39m_session\n\u001b[0;32m    317\u001b[0m \u001b[38;5;28;01mtry\u001b[39;00m:\n\u001b[1;32m--> 318\u001b[0m     \u001b[38;5;28;43mself\u001b[39;49m\u001b[38;5;241;43m.\u001b[39;49m\u001b[43mdo_sleep\u001b[49m\u001b[43m(\u001b[49m\u001b[43m)\u001b[49m\n\u001b[0;32m    319\u001b[0m     \u001b[38;5;28;01mif\u001b[39;00m is_graphql_query:\n\u001b[0;32m    320\u001b[0m         \u001b[38;5;28mself\u001b[39m\u001b[38;5;241m.\u001b[39m_rate_controller\u001b[38;5;241m.\u001b[39mwait_before_query(params[\u001b[38;5;124m'\u001b[39m\u001b[38;5;124mquery_hash\u001b[39m\u001b[38;5;124m'\u001b[39m])\n",
      "File \u001b[1;32mC:\\Python310\\lib\\site-packages\\instaloader\\instaloadercontext.py:298\u001b[0m, in \u001b[0;36mInstaloaderContext.do_sleep\u001b[1;34m(self)\u001b[0m\n\u001b[0;32m    296\u001b[0m \u001b[38;5;124;03m\"\"\"Sleep a short time if self.sleep is set. Called before each request to instagram.com.\"\"\"\u001b[39;00m\n\u001b[0;32m    297\u001b[0m \u001b[38;5;28;01mif\u001b[39;00m \u001b[38;5;28mself\u001b[39m\u001b[38;5;241m.\u001b[39msleep:\n\u001b[1;32m--> 298\u001b[0m     \u001b[43mtime\u001b[49m\u001b[38;5;241;43m.\u001b[39;49m\u001b[43msleep\u001b[49m\u001b[43m(\u001b[49m\u001b[38;5;28;43mmin\u001b[39;49m\u001b[43m(\u001b[49m\u001b[43mrandom\u001b[49m\u001b[38;5;241;43m.\u001b[39;49m\u001b[43mexpovariate\u001b[49m\u001b[43m(\u001b[49m\u001b[38;5;241;43m0.6\u001b[39;49m\u001b[43m)\u001b[49m\u001b[43m,\u001b[49m\u001b[43m \u001b[49m\u001b[38;5;241;43m15.0\u001b[39;49m\u001b[43m)\u001b[49m\u001b[43m)\u001b[49m\n",
      "\u001b[1;31mKeyboardInterrupt\u001b[0m: "
     ]
    }
   ],
   "source": [
    "for influencer in influencer_list:\n",
    "    user_to_json(influencer, 5)"
   ]
  },
  {
   "cell_type": "code",
   "execution_count": 9,
   "metadata": {},
   "outputs": [],
   "source": [
    "# Function to grab objects of interest from post object\n",
    "\n",
    "def objects_from_post(post):\n",
    "    # Shortcode\n",
    "    shortcode = 'https://www.instagram.com/p/' + post.shortcode\n",
    "    \n",
    "    # Date\n",
    "    postdate = post.date\n",
    "    \n",
    "    # Profile\n",
    "    profile = post.owner_profile\n",
    "    \n",
    "    # Username of post's owner\n",
    "    profile_username = post.owner_username\n",
    "    \n",
    "    # Extract location\n",
    "    #location = post.location\n",
    "    location = None\n",
    "    \n",
    "    if not location:\n",
    "        loc_name = float('nan')\n",
    "        loc_lng = float('nan')\n",
    "        loc_lat = float('nan')\n",
    "    else:\n",
    "        loc_name = location.name\n",
    "        loc_lng = location.lng\n",
    "        loc_lat = location.lat\n",
    "        \n",
    "    # Extract image URL\n",
    "    image_url = post.url\n",
    "    \n",
    "    # Number of likes\n",
    "    likes_num = post.likes \n",
    "    \n",
    "    # Number of comments\n",
    "    comments_num = post.comments\n",
    "    \n",
    "    # Find ID of likes\n",
    "    #postlikes = []\n",
    "    #for likes in post.get_likes():\n",
    "    #    postlikes.append(likes)\n",
    "    \n",
    "    # Extract caption\n",
    "    # Caption\n",
    "    caption = post.caption\n",
    "    \n",
    "    # Caption hashtag\n",
    "    caption_hashtags = post.caption_hashtags\n",
    "    \n",
    "    # Caption mentions (profiles mentioned in caption)\n",
    "    caption_mention = post.caption_mentions\n",
    "    \n",
    "    # Whether the post is sponsored (i.e. \"Paid partnership with...\")\n",
    "    sponsored = post.is_sponsored\n",
    "    \n",
    "    # List of the post's sponsors (usernames)\n",
    "    sponsors = [p.username for p in post.sponsor_users]\n",
    "    \n",
    "    # Number of followers\n",
    "    followers_num = profile.followers\n",
    "    \n",
    "    # Chronologically earliest comment, to search for hashtags. Influencers sometimes put hashtags in a separate comment,\n",
    "    # usually the first comment on the post. Note that post.get_comments() does not necessarily return\n",
    "    # the chronologically earliest comment as the first item.\n",
    "#     start = time.time()\n",
    "#     first_comment = min(post.get_comments(), key = lambda p: p.created_at_utc)\n",
    "#     if first_comment:\n",
    "#         first_comment_text = first_comment.text\n",
    "        \n",
    "#         # Is the first comment by the owner of the original post?\n",
    "#         first_comment_by_owner = (first_comment.owner.username == profile_username)\n",
    "        \n",
    "#         # If the first comment is by the owner of the original post, get the (unique) hashtags from the first comment\n",
    "#         first_comment_hashtags = list(set(part[1:] for part in first_comment_text.split() if part.startswith('#')))\n",
    "#     else:\n",
    "#         first_comment_text = float('nan')\n",
    "#         first_comment_by_owner = float('nan')\n",
    "#         first_comment_hastags = float('nan')\n",
    "        \n",
    "#     end = time.time()\n",
    "#     print('Getting first comment hashtags took', str(end - start), 'seconds')\n",
    "    \n",
    "    if post.comments > 0:\n",
    "        owner_comments = (c for c in post.get_comments() if c.owner.username == profile_username)\n",
    "        owner_comment_hashtags = [part[1:] for c in owner_comments for part in c.text.split() if part.startswith('#')]\n",
    "        owner_comment_hashtags_unique = list(set(owner_comment_hashtags))\n",
    "    else:\n",
    "        owner_comment_hashtags_unique = float('nan')\n",
    "    \n",
    "    data = {'shortcode': shortcode,\n",
    "            'date': postdate,\n",
    "            'profile_username': profile_username,\n",
    "            'location_name': loc_name,\n",
    "            'location_lat': loc_lat,\n",
    "            'location_lng': loc_lng,\n",
    "            'image_url': image_url,\n",
    "            'likes_num': likes_num,\n",
    "            'comments_num': comments_num,\n",
    "            'caption': caption,\n",
    "            'caption_hashtags': caption_hashtags,\n",
    "            'caption_mention': caption_mention,\n",
    "            'sponsored': sponsored,\n",
    "            'sponsors': sponsors,\n",
    "            'followers_num': followers_num,\n",
    "            'owner_comment_hashtags': owner_comment_hashtags_unique}\n",
    "        \n",
    "    return data"
   ]
  },
  {
   "cell_type": "code",
   "execution_count": 10,
   "metadata": {},
   "outputs": [],
   "source": [
    "def empty_dict(shortcode):\n",
    "    the_dict = {'shortcode': shortcode, \n",
    "                'date': float('nan'),\n",
    "                'profile_username': float('nan'),\n",
    "                'location_name': float('nan'),\n",
    "                'location_lat': float('nan'),\n",
    "                'location_lng': float('nan'),\n",
    "                'image_url': float('nan'),\n",
    "                'likes_num': float('nan'),\n",
    "                'comments_num': float('nan'),\n",
    "                'caption': float('nan'),\n",
    "                'caption_hashtags': float('nan'),\n",
    "                'caption_mention': float('nan'),\n",
    "                'sponsored': float('nan'),\n",
    "                'sponsors': float('nan'),\n",
    "                'followers_num': float('nan'),\n",
    "                'owner_comment_hashtags': float('nan')}\n",
    "    return the_dict"
   ]
  },
  {
   "cell_type": "code",
   "execution_count": 12,
   "metadata": {},
   "outputs": [
    {
     "name": "stdout",
     "output_type": "stream",
     "text": [
      "Post 1 of 10\n",
      "\n",
      "C:\\Users\\kas1112\\Documents\\research_social_media\\data\\out\\json\\20220901\\B_xnRdWjUZN.json.xz\n",
      "\n",
      "HTTP redirect from https://www.instagram.com/graphql/query to https://www.instagram.com/accounts/login/?next=/graphql/query\n",
      "Error getting post information: Redirected to login page. Use --login.\n",
      "Post 2 of 10\n",
      "\n",
      "C:\\Users\\kas1112\\Documents\\research_social_media\\data\\out\\json\\20220901\\CCn7V7zJi5P.json.xz\n",
      "\n",
      "HTTP redirect from https://www.instagram.com/graphql/query to https://www.instagram.com/accounts/login/?next=/graphql/query\n",
      "Error getting post information: Redirected to login page. Use --login.\n",
      "Post 3 of 10\n",
      "\n",
      "C:\\Users\\kas1112\\Documents\\research_social_media\\data\\out\\json\\20220901\\Cee_qysAOdT.json.xz\n",
      "\n",
      "HTTP redirect from https://www.instagram.com/graphql/query to https://www.instagram.com/accounts/login/?next=/graphql/query\n",
      "Error getting post information: Redirected to login page. Use --login.\n",
      "Post 4 of 10\n",
      "\n",
      "C:\\Users\\kas1112\\Documents\\research_social_media\\data\\out\\json\\20220901\\CeF53H6oCrT.json.xz\n",
      "\n",
      "HTTP redirect from https://www.instagram.com/graphql/query to https://www.instagram.com/accounts/login/?next=/graphql/query\n",
      "Error getting post information: Redirected to login page. Use --login.\n",
      "Post 5 of 10\n",
      "\n",
      "C:\\Users\\kas1112\\Documents\\research_social_media\\data\\out\\json\\20220901\\CeLlI5Og6pg.json.xz\n",
      "\n",
      "HTTP redirect from https://www.instagram.com/graphql/query to https://www.instagram.com/accounts/login/?next=/graphql/query\n",
      "Error getting post information: Redirected to login page. Use --login.\n",
      "Post 6 of 10\n",
      "\n",
      "C:\\Users\\kas1112\\Documents\\research_social_media\\data\\out\\json\\20220901\\Ch2KSccPEKa.json.xz\n",
      "\n",
      "HTTP redirect from https://www.instagram.com/graphql/query to https://www.instagram.com/accounts/login/?next=/graphql/query\n",
      "Error getting post information: Redirected to login page. Use --login.\n",
      "Post 7 of 10\n",
      "\n",
      "C:\\Users\\kas1112\\Documents\\research_social_media\\data\\out\\json\\20220901\\Ch4zK38MsOy.json.xz\n",
      "\n",
      "HTTP redirect from https://www.instagram.com/graphql/query to https://www.instagram.com/accounts/login/?next=/graphql/query\n",
      "Error getting post information: Redirected to login page. Use --login.\n",
      "Post 8 of 10\n",
      "\n",
      "C:\\Users\\kas1112\\Documents\\research_social_media\\data\\out\\json\\20220901\\Ch7VwLcJr73.json.xz\n"
     ]
    },
    {
     "ename": "KeyboardInterrupt",
     "evalue": "",
     "output_type": "error",
     "traceback": [
      "\u001b[1;31m---------------------------------------------------------------------------\u001b[0m",
      "\u001b[1;31mKeyError\u001b[0m                                  Traceback (most recent call last)",
      "File \u001b[1;32mC:\\Python310\\lib\\site-packages\\instaloader\\structures.py:225\u001b[0m, in \u001b[0;36mPost._field\u001b[1;34m(self, *keys)\u001b[0m\n\u001b[0;32m    224\u001b[0m \u001b[38;5;28;01mfor\u001b[39;00m key \u001b[38;5;129;01min\u001b[39;00m keys:\n\u001b[1;32m--> 225\u001b[0m     d \u001b[38;5;241m=\u001b[39m \u001b[43md\u001b[49m\u001b[43m[\u001b[49m\u001b[43mkey\u001b[49m\u001b[43m]\u001b[49m\n\u001b[0;32m    226\u001b[0m \u001b[38;5;28;01mreturn\u001b[39;00m d\n",
      "\u001b[1;31mKeyError\u001b[0m: 'edge_media_to_sponsor_user'",
      "\nDuring handling of the above exception, another exception occurred:\n",
      "\u001b[1;31mKeyboardInterrupt\u001b[0m                         Traceback (most recent call last)",
      "Input \u001b[1;32mIn [12]\u001b[0m, in \u001b[0;36m<cell line: 5>\u001b[1;34m()\u001b[0m\n\u001b[0;32m     11\u001b[0m \u001b[38;5;66;03m# To handle a postexception error\u001b[39;00m\n\u001b[0;32m     12\u001b[0m \u001b[38;5;28;01mtry\u001b[39;00m:\n\u001b[1;32m---> 13\u001b[0m     list_dicts\u001b[38;5;241m.\u001b[39mappend(\u001b[43mobjects_from_post\u001b[49m\u001b[43m(\u001b[49m\u001b[43mpost\u001b[49m\u001b[43m)\u001b[49m)\n\u001b[0;32m     14\u001b[0m \u001b[38;5;28;01mexcept\u001b[39;00m \u001b[38;5;167;01mException\u001b[39;00m \u001b[38;5;28;01mas\u001b[39;00m e:\n\u001b[0;32m     15\u001b[0m     \u001b[38;5;28mprint\u001b[39m(\u001b[38;5;124m'\u001b[39m\u001b[38;5;124mError getting post information:\u001b[39m\u001b[38;5;124m'\u001b[39m, e)\n",
      "Input \u001b[1;32mIn [9]\u001b[0m, in \u001b[0;36mobjects_from_post\u001b[1;34m(post)\u001b[0m\n\u001b[0;32m     51\u001b[0m caption_mention \u001b[38;5;241m=\u001b[39m post\u001b[38;5;241m.\u001b[39mcaption_mentions\n\u001b[0;32m     53\u001b[0m \u001b[38;5;66;03m# Whether the post is sponsored (i.e. \"Paid partnership with...\")\u001b[39;00m\n\u001b[1;32m---> 54\u001b[0m sponsored \u001b[38;5;241m=\u001b[39m \u001b[43mpost\u001b[49m\u001b[38;5;241;43m.\u001b[39;49m\u001b[43mis_sponsored\u001b[49m\n\u001b[0;32m     56\u001b[0m \u001b[38;5;66;03m# List of the post's sponsors (usernames)\u001b[39;00m\n\u001b[0;32m     57\u001b[0m sponsors \u001b[38;5;241m=\u001b[39m [p\u001b[38;5;241m.\u001b[39musername \u001b[38;5;28;01mfor\u001b[39;00m p \u001b[38;5;129;01min\u001b[39;00m post\u001b[38;5;241m.\u001b[39msponsor_users]\n",
      "File \u001b[1;32mC:\\Python310\\lib\\site-packages\\instaloader\\structures.py:609\u001b[0m, in \u001b[0;36mPost.is_sponsored\u001b[1;34m(self)\u001b[0m\n\u001b[0;32m    603\u001b[0m \u001b[38;5;124;03m\"\"\"\u001b[39;00m\n\u001b[0;32m    604\u001b[0m \u001b[38;5;124;03mWhether Post is a sponsored post, equivalent to non-empty :meth:`Post.sponsor_users`.\u001b[39;00m\n\u001b[0;32m    605\u001b[0m \n\u001b[0;32m    606\u001b[0m \u001b[38;5;124;03m.. versionadded:: 4.4\u001b[39;00m\n\u001b[0;32m    607\u001b[0m \u001b[38;5;124;03m\"\"\"\u001b[39;00m\n\u001b[0;32m    608\u001b[0m \u001b[38;5;28;01mtry\u001b[39;00m:\n\u001b[1;32m--> 609\u001b[0m     sponsor_edges \u001b[38;5;241m=\u001b[39m \u001b[38;5;28;43mself\u001b[39;49m\u001b[38;5;241;43m.\u001b[39;49m\u001b[43m_field\u001b[49m\u001b[43m(\u001b[49m\u001b[38;5;124;43m'\u001b[39;49m\u001b[38;5;124;43medge_media_to_sponsor_user\u001b[39;49m\u001b[38;5;124;43m'\u001b[39;49m\u001b[43m,\u001b[49m\u001b[43m \u001b[49m\u001b[38;5;124;43m'\u001b[39;49m\u001b[38;5;124;43medges\u001b[39;49m\u001b[38;5;124;43m'\u001b[39;49m\u001b[43m)\u001b[49m\n\u001b[0;32m    610\u001b[0m \u001b[38;5;28;01mexcept\u001b[39;00m \u001b[38;5;167;01mKeyError\u001b[39;00m:\n\u001b[0;32m    611\u001b[0m     \u001b[38;5;28;01mreturn\u001b[39;00m \u001b[38;5;28;01mFalse\u001b[39;00m\n",
      "File \u001b[1;32mC:\\Python310\\lib\\site-packages\\instaloader\\structures.py:228\u001b[0m, in \u001b[0;36mPost._field\u001b[1;34m(self, *keys)\u001b[0m\n\u001b[0;32m    226\u001b[0m     \u001b[38;5;28;01mreturn\u001b[39;00m d\n\u001b[0;32m    227\u001b[0m \u001b[38;5;28;01mexcept\u001b[39;00m \u001b[38;5;167;01mKeyError\u001b[39;00m:\n\u001b[1;32m--> 228\u001b[0m     d \u001b[38;5;241m=\u001b[39m \u001b[38;5;28;43mself\u001b[39;49m\u001b[38;5;241;43m.\u001b[39;49m\u001b[43m_full_metadata\u001b[49m\n\u001b[0;32m    229\u001b[0m     \u001b[38;5;28;01mfor\u001b[39;00m key \u001b[38;5;129;01min\u001b[39;00m keys:\n\u001b[0;32m    230\u001b[0m         d \u001b[38;5;241m=\u001b[39m d[key]\n",
      "File \u001b[1;32mC:\\Python310\\lib\\site-packages\\instaloader\\structures.py:205\u001b[0m, in \u001b[0;36mPost._full_metadata\u001b[1;34m(self)\u001b[0m\n\u001b[0;32m    203\u001b[0m \u001b[38;5;129m@property\u001b[39m\n\u001b[0;32m    204\u001b[0m \u001b[38;5;28;01mdef\u001b[39;00m \u001b[38;5;21m_full_metadata\u001b[39m(\u001b[38;5;28mself\u001b[39m) \u001b[38;5;241m-\u001b[39m\u001b[38;5;241m>\u001b[39m Dict[\u001b[38;5;28mstr\u001b[39m, Any]:\n\u001b[1;32m--> 205\u001b[0m     \u001b[38;5;28;43mself\u001b[39;49m\u001b[38;5;241;43m.\u001b[39;49m\u001b[43m_obtain_metadata\u001b[49m\u001b[43m(\u001b[49m\u001b[43m)\u001b[49m\n\u001b[0;32m    206\u001b[0m     \u001b[38;5;28;01massert\u001b[39;00m \u001b[38;5;28mself\u001b[39m\u001b[38;5;241m.\u001b[39m_full_metadata_dict \u001b[38;5;129;01mis\u001b[39;00m \u001b[38;5;129;01mnot\u001b[39;00m \u001b[38;5;28;01mNone\u001b[39;00m\n\u001b[0;32m    207\u001b[0m     \u001b[38;5;28;01mreturn\u001b[39;00m \u001b[38;5;28mself\u001b[39m\u001b[38;5;241m.\u001b[39m_full_metadata_dict\n",
      "File \u001b[1;32mC:\\Python310\\lib\\site-packages\\instaloader\\structures.py:192\u001b[0m, in \u001b[0;36mPost._obtain_metadata\u001b[1;34m(self)\u001b[0m\n\u001b[0;32m    190\u001b[0m \u001b[38;5;28;01mdef\u001b[39;00m \u001b[38;5;21m_obtain_metadata\u001b[39m(\u001b[38;5;28mself\u001b[39m):\n\u001b[0;32m    191\u001b[0m     \u001b[38;5;28;01mif\u001b[39;00m \u001b[38;5;129;01mnot\u001b[39;00m \u001b[38;5;28mself\u001b[39m\u001b[38;5;241m.\u001b[39m_full_metadata_dict:\n\u001b[1;32m--> 192\u001b[0m         pic_json \u001b[38;5;241m=\u001b[39m \u001b[38;5;28;43mself\u001b[39;49m\u001b[38;5;241;43m.\u001b[39;49m\u001b[43m_context\u001b[49m\u001b[38;5;241;43m.\u001b[39;49m\u001b[43mgraphql_query\u001b[49m\u001b[43m(\u001b[49m\n\u001b[0;32m    193\u001b[0m \u001b[43m            \u001b[49m\u001b[38;5;124;43m'\u001b[39;49m\u001b[38;5;124;43m2b0673e0dc4580674a88d426fe00ea90\u001b[39;49m\u001b[38;5;124;43m'\u001b[39;49m\u001b[43m,\u001b[49m\n\u001b[0;32m    194\u001b[0m \u001b[43m            \u001b[49m\u001b[43m{\u001b[49m\u001b[38;5;124;43m'\u001b[39;49m\u001b[38;5;124;43mshortcode\u001b[39;49m\u001b[38;5;124;43m'\u001b[39;49m\u001b[43m:\u001b[49m\u001b[43m \u001b[49m\u001b[38;5;28;43mself\u001b[39;49m\u001b[38;5;241;43m.\u001b[39;49m\u001b[43mshortcode\u001b[49m\u001b[43m}\u001b[49m\n\u001b[0;32m    195\u001b[0m \u001b[43m        \u001b[49m\u001b[43m)\u001b[49m\n\u001b[0;32m    196\u001b[0m         \u001b[38;5;28mself\u001b[39m\u001b[38;5;241m.\u001b[39m_full_metadata_dict \u001b[38;5;241m=\u001b[39m pic_json[\u001b[38;5;124m'\u001b[39m\u001b[38;5;124mdata\u001b[39m\u001b[38;5;124m'\u001b[39m][\u001b[38;5;124m'\u001b[39m\u001b[38;5;124mshortcode_media\u001b[39m\u001b[38;5;124m'\u001b[39m]\n\u001b[0;32m    197\u001b[0m         \u001b[38;5;28;01mif\u001b[39;00m \u001b[38;5;28mself\u001b[39m\u001b[38;5;241m.\u001b[39m_full_metadata_dict \u001b[38;5;129;01mis\u001b[39;00m \u001b[38;5;28;01mNone\u001b[39;00m:\n",
      "File \u001b[1;32mC:\\Python310\\lib\\site-packages\\instaloader\\instaloadercontext.py:428\u001b[0m, in \u001b[0;36mInstaloaderContext.graphql_query\u001b[1;34m(self, query_hash, variables, referer, rhx_gis)\u001b[0m\n\u001b[0;32m    425\u001b[0m         x_instagram_gis \u001b[38;5;241m=\u001b[39m hashlib\u001b[38;5;241m.\u001b[39mmd5(values\u001b[38;5;241m.\u001b[39mencode())\u001b[38;5;241m.\u001b[39mhexdigest()\n\u001b[0;32m    426\u001b[0m         tmpsession\u001b[38;5;241m.\u001b[39mheaders[\u001b[38;5;124m'\u001b[39m\u001b[38;5;124mx-instagram-gis\u001b[39m\u001b[38;5;124m'\u001b[39m] \u001b[38;5;241m=\u001b[39m x_instagram_gis\n\u001b[1;32m--> 428\u001b[0m     resp_json \u001b[38;5;241m=\u001b[39m \u001b[38;5;28;43mself\u001b[39;49m\u001b[38;5;241;43m.\u001b[39;49m\u001b[43mget_json\u001b[49m\u001b[43m(\u001b[49m\u001b[38;5;124;43m'\u001b[39;49m\u001b[38;5;124;43mgraphql/query\u001b[39;49m\u001b[38;5;124;43m'\u001b[39;49m\u001b[43m,\u001b[49m\n\u001b[0;32m    429\u001b[0m \u001b[43m                              \u001b[49m\u001b[43mparams\u001b[49m\u001b[38;5;241;43m=\u001b[39;49m\u001b[43m{\u001b[49m\u001b[38;5;124;43m'\u001b[39;49m\u001b[38;5;124;43mquery_hash\u001b[39;49m\u001b[38;5;124;43m'\u001b[39;49m\u001b[43m:\u001b[49m\u001b[43m \u001b[49m\u001b[43mquery_hash\u001b[49m\u001b[43m,\u001b[49m\n\u001b[0;32m    430\u001b[0m \u001b[43m                                      \u001b[49m\u001b[38;5;124;43m'\u001b[39;49m\u001b[38;5;124;43mvariables\u001b[39;49m\u001b[38;5;124;43m'\u001b[39;49m\u001b[43m:\u001b[49m\u001b[43m \u001b[49m\u001b[43mvariables_json\u001b[49m\u001b[43m}\u001b[49m\u001b[43m,\u001b[49m\n\u001b[0;32m    431\u001b[0m \u001b[43m                              \u001b[49m\u001b[43msession\u001b[49m\u001b[38;5;241;43m=\u001b[39;49m\u001b[43mtmpsession\u001b[49m\u001b[43m)\u001b[49m\n\u001b[0;32m    432\u001b[0m \u001b[38;5;28;01mif\u001b[39;00m \u001b[38;5;124m'\u001b[39m\u001b[38;5;124mstatus\u001b[39m\u001b[38;5;124m'\u001b[39m \u001b[38;5;129;01mnot\u001b[39;00m \u001b[38;5;129;01min\u001b[39;00m resp_json:\n\u001b[0;32m    433\u001b[0m     \u001b[38;5;28mself\u001b[39m\u001b[38;5;241m.\u001b[39merror(\u001b[38;5;124m\"\u001b[39m\u001b[38;5;124mGraphQL response did not contain a \u001b[39m\u001b[38;5;130;01m\\\"\u001b[39;00m\u001b[38;5;124mstatus\u001b[39m\u001b[38;5;130;01m\\\"\u001b[39;00m\u001b[38;5;124m field.\u001b[39m\u001b[38;5;124m\"\u001b[39m)\n",
      "File \u001b[1;32mC:\\Python310\\lib\\site-packages\\instaloader\\instaloadercontext.py:318\u001b[0m, in \u001b[0;36mInstaloaderContext.get_json\u001b[1;34m(self, path, params, host, session, _attempt)\u001b[0m\n\u001b[0;32m    316\u001b[0m sess \u001b[38;5;241m=\u001b[39m session \u001b[38;5;28;01mif\u001b[39;00m session \u001b[38;5;28;01melse\u001b[39;00m \u001b[38;5;28mself\u001b[39m\u001b[38;5;241m.\u001b[39m_session\n\u001b[0;32m    317\u001b[0m \u001b[38;5;28;01mtry\u001b[39;00m:\n\u001b[1;32m--> 318\u001b[0m     \u001b[38;5;28;43mself\u001b[39;49m\u001b[38;5;241;43m.\u001b[39;49m\u001b[43mdo_sleep\u001b[49m\u001b[43m(\u001b[49m\u001b[43m)\u001b[49m\n\u001b[0;32m    319\u001b[0m     \u001b[38;5;28;01mif\u001b[39;00m is_graphql_query:\n\u001b[0;32m    320\u001b[0m         \u001b[38;5;28mself\u001b[39m\u001b[38;5;241m.\u001b[39m_rate_controller\u001b[38;5;241m.\u001b[39mwait_before_query(params[\u001b[38;5;124m'\u001b[39m\u001b[38;5;124mquery_hash\u001b[39m\u001b[38;5;124m'\u001b[39m])\n",
      "File \u001b[1;32mC:\\Python310\\lib\\site-packages\\instaloader\\instaloadercontext.py:298\u001b[0m, in \u001b[0;36mInstaloaderContext.do_sleep\u001b[1;34m(self)\u001b[0m\n\u001b[0;32m    296\u001b[0m \u001b[38;5;124;03m\"\"\"Sleep a short time if self.sleep is set. Called before each request to instagram.com.\"\"\"\u001b[39;00m\n\u001b[0;32m    297\u001b[0m \u001b[38;5;28;01mif\u001b[39;00m \u001b[38;5;28mself\u001b[39m\u001b[38;5;241m.\u001b[39msleep:\n\u001b[1;32m--> 298\u001b[0m     \u001b[43mtime\u001b[49m\u001b[38;5;241;43m.\u001b[39;49m\u001b[43msleep\u001b[49m\u001b[43m(\u001b[49m\u001b[38;5;28;43mmin\u001b[39;49m\u001b[43m(\u001b[49m\u001b[43mrandom\u001b[49m\u001b[38;5;241;43m.\u001b[39;49m\u001b[43mexpovariate\u001b[49m\u001b[43m(\u001b[49m\u001b[38;5;241;43m0.6\u001b[39;49m\u001b[43m)\u001b[49m\u001b[43m,\u001b[49m\u001b[43m \u001b[49m\u001b[38;5;241;43m15.0\u001b[39;49m\u001b[43m)\u001b[49m\u001b[43m)\u001b[49m\n",
      "\u001b[1;31mKeyboardInterrupt\u001b[0m: "
     ]
    }
   ],
   "source": [
    "json_today = data_out / 'json' / today\n",
    "json_files = list(json_today.glob('*.json.xz'))\n",
    "count = 0\n",
    "list_dicts = []\n",
    "for file in json_files:\n",
    "    count += 1\n",
    "    print('Post {} of {}\\n'.format(count, len(json_files)))\n",
    "    print(file)\n",
    "\n",
    "    post = instaloader.load_structure_from_file(L.context, str(file))\n",
    "    # To handle a postexception error\n",
    "    try:\n",
    "        list_dicts.append(objects_from_post(post))\n",
    "    except Exception as e:\n",
    "        print('Error getting post information:', e)\n",
    "        list_dicts.append(empty_dict(post.shortcode))\n",
    "\n",
    "df = pd.DataFrame(list_dicts)"
   ]
  },
  {
   "cell_type": "code",
   "execution_count": null,
   "metadata": {},
   "outputs": [],
   "source": [
    "# Encoding needs to be UTF8-sig, otherwise apostrophes, emojis etc. get messed up\n",
    "outfile = today + '.csv'\n",
    "outpath = data_out / 'csv' / outfile\n",
    "df.to_csv(outpath, encoding = 'utf-8-sig', index = False) "
   ]
  },
  {
   "cell_type": "code",
   "execution_count": null,
   "metadata": {},
   "outputs": [],
   "source": []
  }
 ],
 "metadata": {
  "kernelspec": {
   "display_name": "Python 3 (ipykernel)",
   "language": "python",
   "name": "python3"
  },
  "language_info": {
   "codemirror_mode": {
    "name": "ipython",
    "version": 3
   },
   "file_extension": ".py",
   "mimetype": "text/x-python",
   "name": "python",
   "nbconvert_exporter": "python",
   "pygments_lexer": "ipython3",
   "version": "3.10.6"
  }
 },
 "nbformat": 4,
 "nbformat_minor": 4
}
