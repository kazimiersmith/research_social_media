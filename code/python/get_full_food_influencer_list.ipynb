{
 "cells": [
  {
   "cell_type": "code",
   "execution_count": 69,
   "id": "5f27c62b-9832-4d9e-8438-d27cf50badb2",
   "metadata": {},
   "outputs": [],
   "source": [
    "from bs4 import BeautifulSoup\n",
    "import pandas as pd\n",
    "import itertools"
   ]
  },
  {
   "cell_type": "code",
   "execution_count": 70,
   "id": "c051dcb9-415c-456b-8031-8f3055184d67",
   "metadata": {},
   "outputs": [],
   "source": [
    "with open('food_influencers_webpage.html', encoding = 'utf-8') as fp:\n",
    "    soup = BeautifulSoup(fp, 'html.parser')\n",
    "    profiles = soup.find_all(class_ = \"trow trow-wrap\")\n",
    "    usernames = [p.a.text.strip()[1:] for p in profiles]\n",
    "    followers = [int(next(itertools.islice(p.a.next_siblings, 2, 3)).strip().replace(',', '')) for p in profiles]"
   ]
  },
  {
   "cell_type": "code",
   "execution_count": 71,
   "id": "7faa12a3-e126-47a7-bbf9-7832a1b69a85",
   "metadata": {},
   "outputs": [
    {
     "name": "stdout",
     "output_type": "stream",
     "text": [
      "[3400000, 2300000, 2200000, 2200000, 1900000, 1700000, 1600000, 1500000, 1400000, 1100000, 1100000, 1100000, 651000, 647000, 610000, 568000, 554000, 488000, 7815, 17500, 400000, 399000, 396000, 393000, 386000, 385000, 383000, 383000, 355000, 327000, 318000, 311000, 289000, 278000, 339, 277000, 273000, 267000, 265000, 244000, 231000, 213000, 199000, 195000, 189000, 184000, 182000, 181000, 179000, 171000, 162000, 153000, 151000, 145000, 143000, 141000, 138000, 135000, 129000, 127000, 120000, 115000, 112000, 112000, 105000, 102000, 101000, 98200, 95000, 93700, 89700, 87900, 87800, 84000, 82300, 82300, 81600, 75400, 72200, 71600, 68400, 68100, 66800, 66200, 70100, 65800, 65700, 63600, 15300, 5443, 62000, 60200, 59400, 58500, 57400, 56200, 50200, 47800, 47200, 46300, 45200, 43700, 40900, 40700, 38100, 36700, 35500, 35500, 35400, 34300, 33300, 32300, 31300, 30900, 29500, 29100, 28200, 26900, 26800, 26700, 24800, 24800, 23100, 21300, 21300, 20500, 19400, 16200, 16100, 15900, 15700, 15400, 15000, 14000, 14000, 13300, 13300, 13100, 12600, 12600, 12000, 11100, 10700, 10300, 10100, 10100, 9913, 9790, 9749, 8937, 8233, 6728, 6501, 6384, 5569, 4709, 4306, 3987, 3125, 418]\n"
     ]
    }
   ],
   "source": [
    "print(repr(followers))"
   ]
  },
  {
   "cell_type": "code",
   "execution_count": 72,
   "id": "c9519938-6a01-44fc-9ca1-bcf50508c22f",
   "metadata": {},
   "outputs": [],
   "source": [
    "influencers = pd.DataFrame({'username': usernames, 'num_followers': followers})"
   ]
  },
  {
   "cell_type": "code",
   "execution_count": 73,
   "id": "8df04faf-e43a-410d-bfa1-b052ae15da85",
   "metadata": {},
   "outputs": [],
   "source": [
    "missing = ['kp_ingitsimple']\n",
    "rename = {'streetsmartrd': 'streetsmart.rd',\n",
    "         'carlieeeeats': 'carlie.eats',\n",
    "         'memphiswings615': 'originalmemphiswings'}"
   ]
  },
  {
   "cell_type": "code",
   "execution_count": 74,
   "id": "cb77f109-7fb1-4e9f-a911-1ad0e20cdbcc",
   "metadata": {},
   "outputs": [],
   "source": [
    "influencers = influencers[~influencers['username'].isin(missing)]"
   ]
  },
  {
   "cell_type": "code",
   "execution_count": 75,
   "id": "7d183dd7-3123-4e7b-a1f7-0cd0fb893ce8",
   "metadata": {},
   "outputs": [],
   "source": [
    "influencers['username'] = influencers['username'].replace(to_replace = rename)"
   ]
  },
  {
   "cell_type": "code",
   "execution_count": 76,
   "id": "b3de1592-14cb-480b-8b63-4f420b09cb07",
   "metadata": {},
   "outputs": [],
   "source": [
    "influencers.to_csv('list_influencers.csv', encoding = 'utf-8', index = False)"
   ]
  },
  {
   "cell_type": "code",
   "execution_count": 77,
   "id": "60671911-2879-4474-b6b5-0d68f55ba575",
   "metadata": {},
   "outputs": [
    {
     "data": {
      "text/plain": [
       "159"
      ]
     },
     "execution_count": 77,
     "metadata": {},
     "output_type": "execute_result"
    }
   ],
   "source": [
    "len(influencers)"
   ]
  },
  {
   "cell_type": "code",
   "execution_count": 81,
   "id": "73b6c4bb-ec29-4439-954f-d346959fb2f4",
   "metadata": {},
   "outputs": [
    {
     "data": {
      "text/plain": [
       "52"
      ]
     },
     "execution_count": 81,
     "metadata": {},
     "output_type": "execute_result"
    }
   ],
   "source": [
    "len(influencers[(influencers['num_followers'] > 50000) & (influencers['num_followers'] < 200000)])"
   ]
  },
  {
   "cell_type": "code",
   "execution_count": null,
   "id": "60dafa9f-cfb3-4485-8559-714528bf9558",
   "metadata": {},
   "outputs": [],
   "source": []
  }
 ],
 "metadata": {
  "kernelspec": {
   "display_name": "Python 3 (ipykernel)",
   "language": "python",
   "name": "python3"
  },
  "language_info": {
   "codemirror_mode": {
    "name": "ipython",
    "version": 3
   },
   "file_extension": ".py",
   "mimetype": "text/x-python",
   "name": "python",
   "nbconvert_exporter": "python",
   "pygments_lexer": "ipython3",
   "version": "3.10.6"
  }
 },
 "nbformat": 4,
 "nbformat_minor": 5
}
